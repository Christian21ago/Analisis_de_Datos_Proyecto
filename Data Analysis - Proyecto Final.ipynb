{
 "cells": [
  {
   "cell_type": "markdown",
   "id": "9ee2791f",
   "metadata": {},
   "source": [
    "<p Style='text-align: right; font-size: 130%'> 30/06/2023 </p>\n",
    "\n",
    "<center><img src='imagen.webp'></center>\n",
    "\n",
    "<h2 Style='color:#2c2b4b; text-align: center'> Empresa PK2 </h2>\n",
    "\n",
    "<h2 Style='color:#2c2b4b; text-align: center; font-size: 90%'> IIC-2023 </h2>\n",
    "\n",
    "<p Style='font-family:Arial'> Durante los años 2021 y 2022 la empresa PK2, ha estado analizando incursionar en la venta de Bienes Rices en los Estados Unidos, siendo que previo a tomar una decisión respecto a dar inicio con las operaciones de venta de propiedades se procedió a recopilar información relacionada con el sector de bienes raíces de USA. <br>\n",
    "\n",
    "Como resultado de la recopilación de los datos, PK2 identificó y consolido un set de datos con 200.000 observaciones, cada una de ellas conformadas por 14 variables, es decir se generó un Data Set de 2.800.000 datos, razón por la cual se decidido contratar sus servicios para generar el proceso de análisis en pro de disponer de insumos para el proceso de toma de decisiones. <br>\n",
    "\n",
    "Adicionalmente, en función de los datos podría determinarse alguna estrategia de ventas de propiedades en alguna ciudad, adicionalmente siéntase en la libertad de incluir algunos otros datos que por contexto de negocio le parezcan relevantes para la toma de decisiones. <br>\n",
    "\n",
    "Es importante mencionar que producto de la labor de analítica su persona deberá entregar un informe ejecutivo donde se plasmen sus hallazgos y conclusiones, este no deberá superar 10 páginas.</p>\n",
    "\n",
    "<table>\n",
    "  <tr>\n",
    "    <td> <img src=\"Info.avif\" alt=\"Enlace para consulta\"/></td>\n",
    "    <td Style='text-align: justify; font-style: normal; font-weight: normal'><a href=\"https://www.kaggle.com/datasets/utkarshx27/real-estate-sales-2001-2020-gl\">Fuente de datos para la realizacion del proyecto</a></td>\n",
    "    <td Style='text-align: justify; font-style: normal; font-weight: normal'>Este es un repositorio abierto para el uso de DataSet con proposito academico, siendo que en este podemos encontrar la meta data necesaria para generar el trabajo durante el cuatrimestre.</td>\n",
    "  </tr>\n",
    "</table>"
   ]
  },
  {
   "cell_type": "code",
   "execution_count": 1,
   "id": "efcb4744",
   "metadata": {},
   "outputs": [],
   "source": [
    "import pandas as pd\n",
    "import numpy as np\n",
    "import matplotlib.pyplot as plt\n",
    "import matplotlib as mpl"
   ]
  },
  {
   "cell_type": "code",
   "execution_count": 2,
   "id": "7fb91c7f",
   "metadata": {},
   "outputs": [],
   "source": [
    "df_rss = pd.read_csv(\"DataSet.csv\", sep = \";\", low_memory=False)"
   ]
  },
  {
   "cell_type": "code",
   "execution_count": 3,
   "id": "a6db588e",
   "metadata": {},
   "outputs": [
    {
     "data": {
      "text/plain": [
       "(200015, 26)"
      ]
     },
     "execution_count": 3,
     "metadata": {},
     "output_type": "execute_result"
    }
   ],
   "source": [
    "df_rss.shape"
   ]
  },
  {
   "cell_type": "code",
   "execution_count": 4,
   "id": "c04bae67",
   "metadata": {},
   "outputs": [
    {
     "data": {
      "text/plain": [
       "Index(['serial_number', 'list_year', 'date_recorded', 'Town', 'Address',\n",
       "       'assessed_value', 'sale_amount', 'sales_ratio', 'property_type',\n",
       "       'residential_type', 'non_use_code', 'assessor_remarks', 'OPM_remarks',\n",
       "       'Location', 'Unnamed: 14', 'Unnamed: 15', 'Unnamed: 16', 'Unnamed: 17',\n",
       "       'Unnamed: 18', 'Unnamed: 19', 'Unnamed: 20', 'Unnamed: 21',\n",
       "       'Unnamed: 22', 'Unnamed: 23', 'Unnamed: 24', 'Unnamed: 25'],\n",
       "      dtype='object')"
      ]
     },
     "execution_count": 4,
     "metadata": {},
     "output_type": "execute_result"
    }
   ],
   "source": [
    "df_rss.rename({'Serial Number': 'serial_number'}, axis=1, inplace=True)\n",
    "df_rss.rename({'List Year': 'list_year'}, axis=1, inplace=True)\n",
    "df_rss.rename({'Date Recorded': 'date_recorded'}, axis=1, inplace=True)\n",
    "df_rss.rename({'Assessed Value': 'assessed_value'}, axis=1, inplace=True)\n",
    "df_rss.rename({'Sale Amount': 'sale_amount'}, axis=1, inplace=True)\n",
    "df_rss.rename({'Sales Ratio': 'sales_ratio'}, axis=1, inplace=True)\n",
    "df_rss.rename({'Property Type': 'property_type'}, axis=1, inplace=True)\n",
    "df_rss.rename({'Residential Type': 'residential_type'}, axis=1, inplace=True)\n",
    "df_rss.rename({'Non Use Code': 'non_use_code'}, axis=1, inplace=True)\n",
    "df_rss.rename({'Assessor Remarks': 'assessor_remarks'}, axis=1, inplace=True)\n",
    "df_rss.rename({'OPM remarks': 'OPM_remarks'}, axis=1, inplace=True)\n",
    "df_rss.columns"
   ]
  },
  {
   "cell_type": "code",
   "execution_count": 5,
   "id": "b3a7e4fe",
   "metadata": {},
   "outputs": [
    {
     "name": "stdout",
     "output_type": "stream",
     "text": [
      "<class 'pandas.core.frame.DataFrame'>\n",
      "RangeIndex: 200015 entries, 0 to 200014\n",
      "Data columns (total 26 columns):\n",
      " #   Column            Non-Null Count   Dtype  \n",
      "---  ------            --------------   -----  \n",
      " 0   serial_number     200013 non-null  float64\n",
      " 1   list_year         200013 non-null  float64\n",
      " 2   date_recorded     200011 non-null  object \n",
      " 3   Town              200013 non-null  object \n",
      " 4   Address           200009 non-null  object \n",
      " 5   assessed_value    200013 non-null  object \n",
      " 6   sale_amount       200011 non-null  object \n",
      " 7   sales_ratio       200011 non-null  object \n",
      " 8   property_type     66804 non-null   object \n",
      " 9   residential_type  61013 non-null   object \n",
      " 10  non_use_code      45783 non-null   object \n",
      " 11  assessor_remarks  14350 non-null   object \n",
      " 12  OPM_remarks       2895 non-null    object \n",
      " 13  Location          57095 non-null   object \n",
      " 14  Unnamed: 14       485 non-null     object \n",
      " 15  Unnamed: 15       185 non-null     object \n",
      " 16  Unnamed: 16       65 non-null      object \n",
      " 17  Unnamed: 17       30 non-null      object \n",
      " 18  Unnamed: 18       18 non-null      object \n",
      " 19  Unnamed: 19       17 non-null      object \n",
      " 20  Unnamed: 20       15 non-null      object \n",
      " 21  Unnamed: 21       14 non-null      object \n",
      " 22  Unnamed: 22       14 non-null      object \n",
      " 23  Unnamed: 23       13 non-null      object \n",
      " 24  Unnamed: 24       1 non-null       object \n",
      " 25  Unnamed: 25       4 non-null       object \n",
      "dtypes: float64(2), object(24)\n",
      "memory usage: 39.7+ MB\n"
     ]
    }
   ],
   "source": [
    "df_rss.info()"
   ]
  },
  {
   "cell_type": "code",
   "execution_count": 6,
   "id": "25af2f6b",
   "metadata": {
    "scrolled": false
   },
   "outputs": [
    {
     "data": {
      "text/plain": [
       "serial_number            2\n",
       "list_year                2\n",
       "date_recorded            4\n",
       "Town                     2\n",
       "Address                  6\n",
       "assessed_value           2\n",
       "sale_amount              4\n",
       "sales_ratio              4\n",
       "property_type       133211\n",
       "residential_type    139002\n",
       "non_use_code        154232\n",
       "assessor_remarks    185665\n",
       "OPM_remarks         197120\n",
       "Location            142920\n",
       "Unnamed: 14         199530\n",
       "Unnamed: 15         199830\n",
       "Unnamed: 16         199950\n",
       "Unnamed: 17         199985\n",
       "Unnamed: 18         199997\n",
       "Unnamed: 19         199998\n",
       "Unnamed: 20         200000\n",
       "Unnamed: 21         200001\n",
       "Unnamed: 22         200001\n",
       "Unnamed: 23         200002\n",
       "Unnamed: 24         200014\n",
       "Unnamed: 25         200011\n",
       "dtype: int64"
      ]
     },
     "execution_count": 6,
     "metadata": {},
     "output_type": "execute_result"
    }
   ],
   "source": [
    "df_rss.isnull().sum()"
   ]
  },
  {
   "cell_type": "code",
   "execution_count": 7,
   "id": "a48b958d",
   "metadata": {},
   "outputs": [],
   "source": [
    "df_rss.drop(['non_use_code', 'assessor_remarks', 'OPM_remarks', 'Location','Unnamed: 14', \n",
    "             'Unnamed: 15', 'Unnamed: 16', 'Unnamed: 17', 'Unnamed: 18', 'Unnamed: 19',\n",
    "             'Unnamed: 20', 'Unnamed: 21', 'Unnamed: 22', 'Unnamed: 23', \n",
    "             'Unnamed: 24', 'Unnamed: 25'], axis=1, inplace=True)\n",
    "df_rss.reset_index(drop=True, inplace=True)"
   ]
  },
  {
   "cell_type": "code",
   "execution_count": 8,
   "id": "cb0cf241",
   "metadata": {},
   "outputs": [],
   "source": [
    "df_rss[\"serial_number\"]= df_rss[\"serial_number\"].fillna(df_rss[\"serial_number\"].mean()) #borrar valores faltantes con mediana\n",
    "df_rss[\"list_year\"]= df_rss[\"list_year\"].fillna(df_rss[\"list_year\"].mean())"
   ]
  },
  {
   "cell_type": "code",
   "execution_count": 9,
   "id": "76b118fd",
   "metadata": {},
   "outputs": [],
   "source": [
    "df_rss[\"property_type\"]=df_rss[\"property_type\"].fillna(df_rss[\"property_type\"].mode()[0]) #borrar valores faltantes con moda a cero\n",
    "df_rss[\"residential_type\"]=df_rss[\"residential_type\"].fillna(df_rss[\"residential_type\"].mode()[0])\n",
    "df_rss[\"Town\"]=df_rss[\"Town\"].fillna(df_rss[\"Town\"].mode()[0])\n",
    "df_rss[\"Address\"]=df_rss[\"Address\"].fillna(df_rss[\"Address\"].mode()[0])"
   ]
  },
  {
   "cell_type": "code",
   "execution_count": 10,
   "id": "72409aac",
   "metadata": {},
   "outputs": [],
   "source": [
    "df_rss.dropna(inplace=True)"
   ]
  },
  {
   "cell_type": "code",
   "execution_count": 11,
   "id": "165bb417",
   "metadata": {
    "scrolled": true
   },
   "outputs": [
    {
     "data": {
      "text/plain": [
       "serial_number       0\n",
       "list_year           0\n",
       "date_recorded       0\n",
       "Town                0\n",
       "Address             0\n",
       "assessed_value      0\n",
       "sale_amount         0\n",
       "sales_ratio         0\n",
       "property_type       0\n",
       "residential_type    0\n",
       "dtype: int64"
      ]
     },
     "execution_count": 11,
     "metadata": {},
     "output_type": "execute_result"
    }
   ],
   "source": [
    "df_rss.isnull().sum()"
   ]
  },
  {
   "cell_type": "code",
   "execution_count": 12,
   "id": "1722c8f1",
   "metadata": {},
   "outputs": [
    {
     "data": {
      "text/plain": [
       "serial_number       float64\n",
       "list_year           float64\n",
       "date_recorded        object\n",
       "Town                 object\n",
       "Address              object\n",
       "assessed_value       object\n",
       "sale_amount          object\n",
       "sales_ratio          object\n",
       "property_type        object\n",
       "residential_type     object\n",
       "dtype: object"
      ]
     },
     "execution_count": 12,
     "metadata": {},
     "output_type": "execute_result"
    }
   ],
   "source": [
    "df_rss.dtypes"
   ]
  },
  {
   "cell_type": "code",
   "execution_count": 13,
   "id": "08e7ac71",
   "metadata": {},
   "outputs": [],
   "source": [
    "df_rss[\"assessed_value\"] = pd.to_numeric(df_rss[\"assessed_value\"], errors='coerce')\n",
    "promNormalizadas = df_rss[\"assessed_value\"].astype(\"float\").mean(axis=0)\n",
    "df_rss[\"sale_amount\"] = pd.to_numeric(df_rss[\"sale_amount\"], errors='coerce')\n",
    "promNormalizadas = df_rss[\"sale_amount\"].astype(\"float\").mean(axis=0)\n",
    "df_rss[\"sales_ratio\"] = pd.to_numeric(df_rss[\"sales_ratio\"], errors='coerce')\n",
    "promNormalizadas = df_rss[\"sales_ratio\"].astype(\"float\").mean(axis=0)\n",
    "df_rss[\"date_recorded\"] = pd.to_numeric(df_rss[\"date_recorded\"], errors='coerce')\n",
    "promNormalizadas = df_rss[\"date_recorded\"].astype(\"float\").mean(axis=0)"
   ]
  },
  {
   "cell_type": "code",
   "execution_count": 14,
   "id": "98e99cd6",
   "metadata": {},
   "outputs": [
    {
     "name": "stdout",
     "output_type": "stream",
     "text": [
      "serial_number\n",
      "False    200007\n",
      "Name: serial_number, dtype: int64\n",
      "\n",
      "list_year\n",
      "False    200007\n",
      "Name: list_year, dtype: int64\n",
      "\n",
      "date_recorded\n",
      "True    200007\n",
      "Name: date_recorded, dtype: int64\n",
      "\n",
      "Town\n",
      "False    200007\n",
      "Name: Town, dtype: int64\n",
      "\n",
      "Address\n",
      "False    200007\n",
      "Name: Address, dtype: int64\n",
      "\n",
      "assessed_value\n",
      "False    199917\n",
      "True         90\n",
      "Name: assessed_value, dtype: int64\n",
      "\n",
      "sale_amount\n",
      "False    199980\n",
      "True         27\n",
      "Name: sale_amount, dtype: int64\n",
      "\n",
      "sales_ratio\n",
      "False    192688\n",
      "True       7319\n",
      "Name: sales_ratio, dtype: int64\n",
      "\n",
      "property_type\n",
      "False    200007\n",
      "Name: property_type, dtype: int64\n",
      "\n",
      "residential_type\n",
      "False    200007\n",
      "Name: residential_type, dtype: int64\n",
      "\n"
     ]
    }
   ],
   "source": [
    "dfTemp = df_rss.isnull()\n",
    "dfTemp.head(5)\n",
    "\n",
    "for columna in dfTemp.columns.values.tolist(): #toma los datos, crea una lista y los encierra en una variable\n",
    "\n",
    "    print(columna)\n",
    "    print(dfTemp[columna].value_counts()) #usar parentesis cuadrado para cuando se refiera a una lista.\n",
    "    print(\"\")"
   ]
  },
  {
   "cell_type": "code",
   "execution_count": 15,
   "id": "7a892a0c",
   "metadata": {},
   "outputs": [],
   "source": [
    "promsale_amount = df_rss[\"sale_amount\"].astype(\"float\").mean(axis=0)\n",
    "df_rss[\"sale_amount\"].replace(np.nan, promsale_amount, inplace=True)\n",
    "promsale_amount = df_rss[\"date_recorded\"].astype(\"float\").mean(axis=0)\n",
    "df_rss[\"date_recorded\"].replace(np.nan, promsale_amount, inplace=True)\n",
    "promassessed_value = df_rss[\"assessed_value\"].astype(\"float\").mean(axis=0)\n",
    "df_rss[\"assessed_value\"].replace(np.nan, promassessed_value, inplace=True)\n",
    "promsales_ratio = df_rss[\"sales_ratio\"].astype(\"float\").mean(axis=0)\n",
    "df_rss[\"sales_ratio\"].replace(np.nan, promsales_ratio, inplace=True)"
   ]
  },
  {
   "cell_type": "code",
   "execution_count": 16,
   "id": "ae185d6a",
   "metadata": {
    "scrolled": false
   },
   "outputs": [
    {
     "data": {
      "text/plain": [
       "serial_number       float64\n",
       "list_year           float64\n",
       "date_recorded       float64\n",
       "Town                 object\n",
       "Address              object\n",
       "assessed_value      float64\n",
       "sale_amount         float64\n",
       "sales_ratio         float64\n",
       "property_type        object\n",
       "residential_type     object\n",
       "dtype: object"
      ]
     },
     "execution_count": 16,
     "metadata": {},
     "output_type": "execute_result"
    }
   ],
   "source": [
    "df_rss.dtypes"
   ]
  },
  {
   "cell_type": "code",
   "execution_count": 17,
   "id": "180f0a4e",
   "metadata": {},
   "outputs": [
    {
     "name": "stdout",
     "output_type": "stream",
     "text": [
      "serial_number\n",
      "False    200007\n",
      "Name: serial_number, dtype: int64\n",
      "\n",
      "list_year\n",
      "False    200007\n",
      "Name: list_year, dtype: int64\n",
      "\n",
      "date_recorded\n",
      "True    200007\n",
      "Name: date_recorded, dtype: int64\n",
      "\n",
      "Town\n",
      "False    200007\n",
      "Name: Town, dtype: int64\n",
      "\n",
      "Address\n",
      "False    200007\n",
      "Name: Address, dtype: int64\n",
      "\n",
      "assessed_value\n",
      "False    200007\n",
      "Name: assessed_value, dtype: int64\n",
      "\n",
      "sale_amount\n",
      "False    200007\n",
      "Name: sale_amount, dtype: int64\n",
      "\n",
      "sales_ratio\n",
      "False    200007\n",
      "Name: sales_ratio, dtype: int64\n",
      "\n",
      "property_type\n",
      "False    200007\n",
      "Name: property_type, dtype: int64\n",
      "\n",
      "residential_type\n",
      "False    200007\n",
      "Name: residential_type, dtype: int64\n",
      "\n"
     ]
    }
   ],
   "source": [
    "dfTemp = df_rss.isnull()\n",
    "dfTemp.head(5)\n",
    "\n",
    "for columna in dfTemp.columns.values.tolist(): #toma los datos, crea una lista y los encierra en una variable\n",
    "\n",
    "    print(columna)\n",
    "    print(dfTemp[columna].value_counts()) #usar parentesis cuadrado para cuando se refiera a una lista.\n",
    "    print(\"\")"
   ]
  },
  {
   "cell_type": "code",
   "execution_count": 18,
   "id": "bb83cb17",
   "metadata": {},
   "outputs": [],
   "source": [
    "df_rss['property_type'] = df_rss['property_type'].replace(r'\\d+', 'NaN', regex=True)\n",
    "Sus = ['NaN N', 'NaN', 'NaN SUMMIT ST', 'NaN.NaN', 'NaN N', 'NaNA', 'NaNC SAW MILL', ' NaN N']\n",
    "df_rss[\"property_type\"].replace(Sus,np.nan,inplace=True)\n",
    "\n",
    "df_rss.dropna(subset=[\"property_type\"], axis=0,inplace=True)\n",
    "df_rss.reset_index(drop=True,inplace=True)"
   ]
  },
  {
   "cell_type": "code",
   "execution_count": 19,
   "id": "07837e28",
   "metadata": {
    "scrolled": true
   },
   "outputs": [
    {
     "name": "stdout",
     "output_type": "stream",
     "text": [
      "serial_number\n",
      "False    199879\n",
      "Name: serial_number, dtype: int64\n",
      "\n",
      "list_year\n",
      "False    199879\n",
      "Name: list_year, dtype: int64\n",
      "\n",
      "date_recorded\n",
      "True    199879\n",
      "Name: date_recorded, dtype: int64\n",
      "\n",
      "Town\n",
      "False    199879\n",
      "Name: Town, dtype: int64\n",
      "\n",
      "Address\n",
      "False    199879\n",
      "Name: Address, dtype: int64\n",
      "\n",
      "assessed_value\n",
      "False    199879\n",
      "Name: assessed_value, dtype: int64\n",
      "\n",
      "sale_amount\n",
      "False    199879\n",
      "Name: sale_amount, dtype: int64\n",
      "\n",
      "sales_ratio\n",
      "False    199879\n",
      "Name: sales_ratio, dtype: int64\n",
      "\n",
      "property_type\n",
      "False    199879\n",
      "Name: property_type, dtype: int64\n",
      "\n",
      "residential_type\n",
      "False    199879\n",
      "Name: residential_type, dtype: int64\n",
      "\n"
     ]
    }
   ],
   "source": [
    "dfTemp = df_rss.isnull()\n",
    "dfTemp.head(5)\n",
    "\n",
    "for columna in dfTemp.columns.values.tolist(): #toma los datos, crea una lista y los encierra en una variable\n",
    "\n",
    "    print(columna)\n",
    "    print(dfTemp[columna].value_counts()) #usar parentesis cuadrado para cuando se refiera a una lista.\n",
    "    print(\"\")"
   ]
  },
  {
   "cell_type": "code",
   "execution_count": 20,
   "id": "1e5391a5",
   "metadata": {},
   "outputs": [
    {
     "data": {
      "text/plain": [
       "list_year  property_type \n",
       "2001.0     Residential       1.467167e+10\n",
       "2002.0     Residential       1.710040e+10\n",
       "2003.0     Residential       5.583694e+09\n",
       "2004.0     Residential       3.810000e+05\n",
       "2005.0     Residential       2.268956e+07\n",
       "2006.0     Condo             6.928400e+06\n",
       "           Residential       5.666678e+07\n",
       "           Two Family        1.100000e+05\n",
       "2007.0     Condo             1.027192e+07\n",
       "           Residential       2.280752e+07\n",
       "2008.0     Condo             2.256675e+06\n",
       "           Residential       2.084596e+07\n",
       "2009.0     Condo             4.001640e+06\n",
       "           Residential       2.559639e+07\n",
       "2010.0     Condo             5.420470e+06\n",
       "           Residential       3.960215e+07\n",
       "2011.0     Condo             2.872450e+06\n",
       "           Residential       2.776450e+07\n",
       "2012.0     Condo             4.458995e+06\n",
       "           Residential       3.516137e+07\n",
       "2013.0     Condo             2.735900e+06\n",
       "           Residential       6.547219e+07\n",
       "           Three Family      5.000000e+04\n",
       "2014.0     Condo             6.114500e+06\n",
       "           Residential       6.962482e+07\n",
       "2015.0     Condo             4.425565e+06\n",
       "           Residential       3.464670e+07\n",
       "2016.0     Condo             6.265400e+06\n",
       "           Residential       2.417070e+07\n",
       "           Single Family     5.300000e+05\n",
       "2017.0     Condo             8.218900e+06\n",
       "           Residential       5.908969e+07\n",
       "           Two Family        2.850000e+05\n",
       "2018.0     Condo             1.120318e+07\n",
       "           Residential       8.898636e+07\n",
       "2019.0     Condo             1.157474e+07\n",
       "           Residential       1.104839e+08\n",
       "2020.0     Apartments        6.169097e+09\n",
       "           Commercial        3.456687e+09\n",
       "           Industrial        4.119977e+08\n",
       "           Public Utility    1.848544e+06\n",
       "           Residential       2.901690e+10\n",
       "           Vacant Land       9.258801e+08\n",
       "Name: sale_amount, dtype: float64"
      ]
     },
     "execution_count": 20,
     "metadata": {},
     "output_type": "execute_result"
    }
   ],
   "source": [
    "df_rss.groupby(['list_year', 'property_type'])['sale_amount'].sum() #Respuesta 1."
   ]
  },
  {
   "cell_type": "code",
   "execution_count": 21,
   "id": "5c13a1fe",
   "metadata": {},
   "outputs": [
    {
     "name": "stdout",
     "output_type": "stream",
     "text": [
      "promedio residential: 346268.1652413106\n",
      "promedio commercial: 1771751.5797180934\n"
     ]
    }
   ],
   "source": [
    "type = df_rss.groupby(['property_type'])['sale_amount'].mean()\n",
    "resident = type['Residential']\n",
    "comercia = type ['Commercial']\n",
    "\n",
    " #Respuesta 4\n",
    "\n",
    "print(\"promedio residential:\",resident)\n",
    "print(\"promedio commercial:\",comercia)"
   ]
  },
  {
   "cell_type": "code",
   "execution_count": 22,
   "id": "69acf4eb",
   "metadata": {},
   "outputs": [
    {
     "data": {
      "text/plain": [
       "residential_type  Town        Address            \n",
       "Condo             Ansonia     11 HUGHES CIR          250000.0\n",
       "                              12 HUGHES CIR # 8      290000.0\n",
       "                              14 MACINTOSH LANE      174000.0\n",
       "                              16 HUGHES CR           209000.0\n",
       "                              21 WINESAP CT          167000.0\n",
       "                                                       ...   \n",
       "Two Family        Woodbridge  1687 LITCHFIELD TPK    290000.0\n",
       "                              1691 LITCHFIELD TPK    290000.0\n",
       "                              1830 LITCHFIELD TPK    215000.0\n",
       "                  Woodbury    533 WEEKEEPEEMEE RD    165000.0\n",
       "                  Woodstock   569 RT 197             205000.0\n",
       "Name: sale_amount, Length: 183663, dtype: float64"
      ]
     },
     "execution_count": 22,
     "metadata": {},
     "output_type": "execute_result"
    }
   ],
   "source": [
    "df_rss.groupby(['residential_type', 'Town', \"Address\"])['sale_amount'].sum() #respuesta 5"
   ]
  },
  {
   "cell_type": "code",
   "execution_count": 23,
   "id": "d01a9c26",
   "metadata": {},
   "outputs": [
    {
     "data": {
      "text/plain": [
       "property_type\n",
       "Apartments         34.212632\n",
       "Commercial         60.084438\n",
       "Condo              17.342855\n",
       "Industrial         37.914894\n",
       "Public Utility    198.040016\n",
       "Residential        38.855471\n",
       "Single Family       0.721350\n",
       "Three Family       41.348000\n",
       "Two Family          0.595950\n",
       "Vacant Land        38.798408\n",
       "Name: sales_ratio, dtype: float64"
      ]
     },
     "execution_count": 23,
     "metadata": {},
     "output_type": "execute_result"
    }
   ],
   "source": [
    "df_rss.groupby([\"property_type\"])['sales_ratio'].mean() #respuesta 6"
   ]
  },
  {
   "cell_type": "code",
   "execution_count": null,
   "id": "63ba3856",
   "metadata": {},
   "outputs": [],
   "source": []
  }
 ],
 "metadata": {
  "kernelspec": {
   "display_name": "Python 3 (ipykernel)",
   "language": "python",
   "name": "python3"
  },
  "language_info": {
   "codemirror_mode": {
    "name": "ipython",
    "version": 3
   },
   "file_extension": ".py",
   "mimetype": "text/x-python",
   "name": "python",
   "nbconvert_exporter": "python",
   "pygments_lexer": "ipython3",
   "version": "3.10.9"
  }
 },
 "nbformat": 4,
 "nbformat_minor": 5
}
