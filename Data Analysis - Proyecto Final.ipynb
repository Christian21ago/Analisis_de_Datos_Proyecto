{
 "cells": [
  {
   "cell_type": "markdown",
   "id": "9ee2791f",
   "metadata": {},
   "source": [
    "<p Style='text-align: right; font-size: 130%'> 30/06/2023 </p>\n",
    "\n",
    "<center><img src='imagen.webp'></center>\n",
    "\n",
    "<h2 Style='color:#2c2b4b; text-align: center'> Empresa PK2 </h2>\n",
    "\n",
    "<h2 Style='color:#2c2b4b; text-align: center; font-size: 90%'> IIC-2023 </h2>\n",
    "\n",
    "<p Style='font-family:Arial'> Durante los años 2021 y 2022 la empresa PK2, ha estado analizando incursionar en la venta de Bienes Rices en los Estados Unidos, siendo que previo a tomar una decisión respecto a dar inicio con las operaciones de venta de propiedades se procedió a recopilar información relacionada con el sector de bienes raíces de USA. <br>\n",
    "\n",
    "Como resultado de la recopilación de los datos, PK2 identificó y consolido un set de datos con 200.000 observaciones, cada una de ellas conformadas por 14 variables, es decir se generó un Data Set de 2.800.000 datos, razón por la cual se decidido contratar sus servicios para generar el proceso de análisis en pro de disponer de insumos para el proceso de toma de decisiones. <br>\n",
    "\n",
    "Adicionalmente, en función de los datos podría determinarse alguna estrategia de ventas de propiedades en alguna ciudad, adicionalmente siéntase en la libertad de incluir algunos otros datos que por contexto de negocio le parezcan relevantes para la toma de decisiones. <br>\n",
    "\n",
    "Es importante mencionar que producto de la labor de analítica su persona deberá entregar un informe ejecutivo donde se plasmen sus hallazgos y conclusiones, este no deberá superar 10 páginas.</p>\n",
    "\n",
    "<table>\n",
    "  <tr>\n",
    "    <td> <img src=\"Info.avif\" alt=\"Enlace para consulta\"/></td>\n",
    "    <td Style='text-align: justify; font-style: normal; font-weight: normal'><a href=\"https://www.kaggle.com/datasets/utkarshx27/real-estate-sales-2001-2020-gl\">Fuente de datos para la realizacion del proyecto</a></td>\n",
    "    <td Style='text-align: justify; font-style: normal; font-weight: normal'>Este es un repositorio abierto para el uso de DataSet con proposito academico, siendo que en este podemos encontrar la meta data necesaria para generar el trabajo durante el cuatrimestre.</td>\n",
    "  </tr>\n",
    "</table>"
   ]
  },
  {
   "cell_type": "markdown",
   "id": "ef96d153",
   "metadata": {},
   "source": [
    "<h2 Style='color: #0841B9'> 1. Carga y Estandarizacion de los set de datos</h2>\n",
    "\n",
    "\n",
    "<h4>Importar librerias</h4>"
   ]
  },
  {
   "cell_type": "code",
   "execution_count": 1,
   "id": "efcb4744",
   "metadata": {},
   "outputs": [],
   "source": [
    "import pandas as pd\n",
    "import numpy as np\n",
    "import matplotlib.pyplot as plt\n",
    "import matplotlib as mpl\n",
    "import seaborn as sns"
   ]
  },
  {
   "cell_type": "markdown",
   "id": "5a3aa470",
   "metadata": {},
   "source": [
    " <h4>Importar set de datos</h4>"
   ]
  },
  {
   "cell_type": "code",
   "execution_count": 2,
   "id": "7fb91c7f",
   "metadata": {},
   "outputs": [],
   "source": [
    "df_rss = pd.read_csv(\"DataSet.csv\", sep = \";\", low_memory=False)"
   ]
  },
  {
   "cell_type": "code",
   "execution_count": 3,
   "id": "a6db588e",
   "metadata": {},
   "outputs": [
    {
     "data": {
      "text/plain": [
       "(200015, 26)"
      ]
     },
     "execution_count": 3,
     "metadata": {},
     "output_type": "execute_result"
    }
   ],
   "source": [
    "df_rss.shape"
   ]
  },
  {
   "cell_type": "markdown",
   "id": "aec422e9",
   "metadata": {},
   "source": [
    "<h4>Revision de encabezados</h4>"
   ]
  },
  {
   "cell_type": "code",
   "execution_count": 4,
   "id": "c04bae67",
   "metadata": {},
   "outputs": [
    {
     "data": {
      "text/plain": [
       "Index(['serial_number', 'list_year', 'date_recorded', 'Town', 'Address',\n",
       "       'assessed_value', 'sale_amount', 'sales_ratio', 'property_type',\n",
       "       'residential_type', 'non_use_code', 'assessor_remarks', 'OPM_remarks',\n",
       "       'Location', 'Unnamed: 14', 'Unnamed: 15', 'Unnamed: 16', 'Unnamed: 17',\n",
       "       'Unnamed: 18', 'Unnamed: 19', 'Unnamed: 20', 'Unnamed: 21',\n",
       "       'Unnamed: 22', 'Unnamed: 23', 'Unnamed: 24', 'Unnamed: 25'],\n",
       "      dtype='object')"
      ]
     },
     "execution_count": 4,
     "metadata": {},
     "output_type": "execute_result"
    }
   ],
   "source": [
    "df_rss.rename({'Serial Number': 'serial_number'}, axis=1, inplace=True)\n",
    "df_rss.rename({'List Year': 'list_year'}, axis=1, inplace=True)\n",
    "df_rss.rename({'Date Recorded': 'date_recorded'}, axis=1, inplace=True)\n",
    "df_rss.rename({'Assessed Value': 'assessed_value'}, axis=1, inplace=True)\n",
    "df_rss.rename({'Sale Amount': 'sale_amount'}, axis=1, inplace=True)\n",
    "df_rss.rename({'Sales Ratio': 'sales_ratio'}, axis=1, inplace=True)\n",
    "df_rss.rename({'Property Type': 'property_type'}, axis=1, inplace=True)\n",
    "df_rss.rename({'Residential Type': 'residential_type'}, axis=1, inplace=True)\n",
    "df_rss.rename({'Non Use Code': 'non_use_code'}, axis=1, inplace=True)\n",
    "df_rss.rename({'Assessor Remarks': 'assessor_remarks'}, axis=1, inplace=True)\n",
    "df_rss.rename({'OPM remarks': 'OPM_remarks'}, axis=1, inplace=True)\n",
    "df_rss.columns"
   ]
  },
  {
   "cell_type": "markdown",
   "id": "b8afbf34",
   "metadata": {},
   "source": [
    "<h4>Fast EDA = Revision Estadistica General del set de datos</h4>"
   ]
  },
  {
   "cell_type": "code",
   "execution_count": 5,
   "id": "b3a7e4fe",
   "metadata": {},
   "outputs": [
    {
     "name": "stdout",
     "output_type": "stream",
     "text": [
      "<class 'pandas.core.frame.DataFrame'>\n",
      "RangeIndex: 200015 entries, 0 to 200014\n",
      "Data columns (total 26 columns):\n",
      " #   Column            Non-Null Count   Dtype  \n",
      "---  ------            --------------   -----  \n",
      " 0   serial_number     200013 non-null  float64\n",
      " 1   list_year         200013 non-null  float64\n",
      " 2   date_recorded     200011 non-null  object \n",
      " 3   Town              200013 non-null  object \n",
      " 4   Address           200009 non-null  object \n",
      " 5   assessed_value    200013 non-null  object \n",
      " 6   sale_amount       200011 non-null  object \n",
      " 7   sales_ratio       200011 non-null  object \n",
      " 8   property_type     66804 non-null   object \n",
      " 9   residential_type  61013 non-null   object \n",
      " 10  non_use_code      45783 non-null   object \n",
      " 11  assessor_remarks  14350 non-null   object \n",
      " 12  OPM_remarks       2895 non-null    object \n",
      " 13  Location          57095 non-null   object \n",
      " 14  Unnamed: 14       485 non-null     object \n",
      " 15  Unnamed: 15       185 non-null     object \n",
      " 16  Unnamed: 16       65 non-null      object \n",
      " 17  Unnamed: 17       30 non-null      object \n",
      " 18  Unnamed: 18       18 non-null      object \n",
      " 19  Unnamed: 19       17 non-null      object \n",
      " 20  Unnamed: 20       15 non-null      object \n",
      " 21  Unnamed: 21       14 non-null      object \n",
      " 22  Unnamed: 22       14 non-null      object \n",
      " 23  Unnamed: 23       13 non-null      object \n",
      " 24  Unnamed: 24       1 non-null       object \n",
      " 25  Unnamed: 25       4 non-null       object \n",
      "dtypes: float64(2), object(24)\n",
      "memory usage: 39.7+ MB\n"
     ]
    }
   ],
   "source": [
    "df_rss.info()"
   ]
  },
  {
   "cell_type": "code",
   "execution_count": 6,
   "id": "25af2f6b",
   "metadata": {
    "scrolled": true
   },
   "outputs": [
    {
     "data": {
      "text/plain": [
       "serial_number            2\n",
       "list_year                2\n",
       "date_recorded            4\n",
       "Town                     2\n",
       "Address                  6\n",
       "assessed_value           2\n",
       "sale_amount              4\n",
       "sales_ratio              4\n",
       "property_type       133211\n",
       "residential_type    139002\n",
       "non_use_code        154232\n",
       "assessor_remarks    185665\n",
       "OPM_remarks         197120\n",
       "Location            142920\n",
       "Unnamed: 14         199530\n",
       "Unnamed: 15         199830\n",
       "Unnamed: 16         199950\n",
       "Unnamed: 17         199985\n",
       "Unnamed: 18         199997\n",
       "Unnamed: 19         199998\n",
       "Unnamed: 20         200000\n",
       "Unnamed: 21         200001\n",
       "Unnamed: 22         200001\n",
       "Unnamed: 23         200002\n",
       "Unnamed: 24         200014\n",
       "Unnamed: 25         200011\n",
       "dtype: int64"
      ]
     },
     "execution_count": 6,
     "metadata": {},
     "output_type": "execute_result"
    }
   ],
   "source": [
    "df_rss.isnull().sum()"
   ]
  },
  {
   "cell_type": "markdown",
   "id": "c7015dff",
   "metadata": {},
   "source": [
    "<h2 Style='color: #0841B9'> 2. Manejo de valores faltantes</h2>\n",
    "\n",
    "<h4>Eliminación de columnas que no se van a usar o vacias</h4>"
   ]
  },
  {
   "cell_type": "code",
   "execution_count": 7,
   "id": "a48b958d",
   "metadata": {},
   "outputs": [],
   "source": [
    "df_rss.drop(['non_use_code', 'assessor_remarks', 'OPM_remarks', 'Location','Unnamed: 14', \n",
    "             'Unnamed: 15', 'Unnamed: 16', 'Unnamed: 17', 'Unnamed: 18', 'Unnamed: 19',\n",
    "             'Unnamed: 20', 'Unnamed: 21', 'Unnamed: 22', 'Unnamed: 23', \n",
    "             'Unnamed: 24', 'Unnamed: 25'], axis=1, inplace=True)\n",
    "df_rss.reset_index(drop=True, inplace=True)"
   ]
  },
  {
   "cell_type": "markdown",
   "id": "30702623",
   "metadata": {},
   "source": [
    "<h4>Imputacion simple de valores numericos</h4>"
   ]
  },
  {
   "cell_type": "code",
   "execution_count": 8,
   "id": "cb0cf241",
   "metadata": {},
   "outputs": [],
   "source": [
    "df_rss[\"serial_number\"]= df_rss[\"serial_number\"].fillna(df_rss[\"serial_number\"].mean())\n",
    "df_rss[\"list_year\"]= df_rss[\"list_year\"].fillna(df_rss[\"list_year\"].mean())"
   ]
  },
  {
   "cell_type": "code",
   "execution_count": 9,
   "id": "76b118fd",
   "metadata": {},
   "outputs": [],
   "source": [
    "df_rss[\"property_type\"]=df_rss[\"property_type\"].fillna(df_rss[\"property_type\"].mode()[0])\n",
    "df_rss[\"residential_type\"]=df_rss[\"residential_type\"].fillna(df_rss[\"residential_type\"].mode()[0])\n",
    "df_rss[\"Town\"]=df_rss[\"Town\"].fillna(df_rss[\"Town\"].mode()[0])\n",
    "df_rss[\"Address\"]=df_rss[\"Address\"].fillna(df_rss[\"Address\"].mode()[0])"
   ]
  },
  {
   "cell_type": "code",
   "execution_count": 10,
   "id": "72409aac",
   "metadata": {},
   "outputs": [],
   "source": [
    "df_rss.dropna(inplace=True)"
   ]
  },
  {
   "cell_type": "code",
   "execution_count": 11,
   "id": "165bb417",
   "metadata": {
    "scrolled": true
   },
   "outputs": [
    {
     "data": {
      "text/plain": [
       "serial_number       0\n",
       "list_year           0\n",
       "date_recorded       0\n",
       "Town                0\n",
       "Address             0\n",
       "assessed_value      0\n",
       "sale_amount         0\n",
       "sales_ratio         0\n",
       "property_type       0\n",
       "residential_type    0\n",
       "dtype: int64"
      ]
     },
     "execution_count": 11,
     "metadata": {},
     "output_type": "execute_result"
    }
   ],
   "source": [
    "df_rss.isnull().sum()"
   ]
  },
  {
   "cell_type": "code",
   "execution_count": 12,
   "id": "1722c8f1",
   "metadata": {
    "scrolled": true
   },
   "outputs": [
    {
     "data": {
      "text/plain": [
       "serial_number       float64\n",
       "list_year           float64\n",
       "date_recorded        object\n",
       "Town                 object\n",
       "Address              object\n",
       "assessed_value       object\n",
       "sale_amount          object\n",
       "sales_ratio          object\n",
       "property_type        object\n",
       "residential_type     object\n",
       "dtype: object"
      ]
     },
     "execution_count": 12,
     "metadata": {},
     "output_type": "execute_result"
    }
   ],
   "source": [
    "df_rss.dtypes"
   ]
  },
  {
   "cell_type": "markdown",
   "id": "fcb4455d",
   "metadata": {},
   "source": [
    "<h4>Contar la cantidad de valores categoricos y remplazarlos</h4>"
   ]
  },
  {
   "cell_type": "code",
   "execution_count": 13,
   "id": "08e7ac71",
   "metadata": {},
   "outputs": [],
   "source": [
    "df_rss[\"assessed_value\"] = pd.to_numeric(df_rss[\"assessed_value\"], errors='coerce')\n",
    "promNormalizadas = df_rss[\"assessed_value\"].astype(\"float\").mean(axis=0)\n",
    "df_rss[\"sale_amount\"] = pd.to_numeric(df_rss[\"sale_amount\"], errors='coerce')\n",
    "promNormalizadas = df_rss[\"sale_amount\"].astype(\"float\").mean(axis=0)\n",
    "df_rss[\"sales_ratio\"] = pd.to_numeric(df_rss[\"sales_ratio\"], errors='coerce')\n",
    "promNormalizadas = df_rss[\"sales_ratio\"].astype(\"float\").mean(axis=0)\n",
    "df_rss[\"date_recorded\"] = pd.to_numeric(df_rss[\"date_recorded\"], errors='coerce')\n",
    "promNormalizadas = df_rss[\"date_recorded\"].astype(\"float\").mean(axis=0)\n",
    "\n",
    "df_rss[['list_year']] = df_rss[['list_year']].astype(\"int\")"
   ]
  },
  {
   "cell_type": "code",
   "execution_count": 14,
   "id": "98e99cd6",
   "metadata": {},
   "outputs": [
    {
     "name": "stdout",
     "output_type": "stream",
     "text": [
      "serial_number\n",
      "False    200007\n",
      "Name: serial_number, dtype: int64\n",
      "\n",
      "list_year\n",
      "False    200007\n",
      "Name: list_year, dtype: int64\n",
      "\n",
      "date_recorded\n",
      "True    200007\n",
      "Name: date_recorded, dtype: int64\n",
      "\n",
      "Town\n",
      "False    200007\n",
      "Name: Town, dtype: int64\n",
      "\n",
      "Address\n",
      "False    200007\n",
      "Name: Address, dtype: int64\n",
      "\n",
      "assessed_value\n",
      "False    199917\n",
      "True         90\n",
      "Name: assessed_value, dtype: int64\n",
      "\n",
      "sale_amount\n",
      "False    199980\n",
      "True         27\n",
      "Name: sale_amount, dtype: int64\n",
      "\n",
      "sales_ratio\n",
      "False    192688\n",
      "True       7319\n",
      "Name: sales_ratio, dtype: int64\n",
      "\n",
      "property_type\n",
      "False    200007\n",
      "Name: property_type, dtype: int64\n",
      "\n",
      "residential_type\n",
      "False    200007\n",
      "Name: residential_type, dtype: int64\n",
      "\n"
     ]
    }
   ],
   "source": [
    "dfTemp = df_rss.isnull()\n",
    "dfTemp.head(5)\n",
    "\n",
    "for columna in dfTemp.columns.values.tolist(): #toma los datos, crea una lista y los encierra en una variable\n",
    "\n",
    "    print(columna)\n",
    "    print(dfTemp[columna].value_counts()) #usar parentesis cuadrado para cuando se refiera a una lista.\n",
    "    print(\"\")"
   ]
  },
  {
   "cell_type": "markdown",
   "id": "599e01ea",
   "metadata": {},
   "source": [
    "<h2 Style='color: #0841B9'> 3. Estandarizacion de Datos</h2>\n",
    "\n",
    "<h4> Verificar el dominio de cada una de las variable, si es necesario se ajusta</h4>"
   ]
  },
  {
   "cell_type": "code",
   "execution_count": 15,
   "id": "7a892a0c",
   "metadata": {},
   "outputs": [],
   "source": [
    "promsale_amount = df_rss[\"sale_amount\"].astype(\"float\").mean(axis=0)\n",
    "df_rss[\"sale_amount\"].replace(np.nan, promsale_amount, inplace=True)\n",
    "promsale_amount = df_rss[\"date_recorded\"].astype(\"float\").mean(axis=0)\n",
    "df_rss[\"date_recorded\"].replace(np.nan, promsale_amount, inplace=True)\n",
    "promassessed_value = df_rss[\"assessed_value\"].astype(\"float\").mean(axis=0)\n",
    "df_rss[\"assessed_value\"].replace(np.nan, promassessed_value, inplace=True)\n",
    "promsales_ratio = df_rss[\"sales_ratio\"].astype(\"float\").mean(axis=0)\n",
    "df_rss[\"sales_ratio\"].replace(np.nan, promsales_ratio, inplace=True)"
   ]
  },
  {
   "cell_type": "code",
   "execution_count": 16,
   "id": "ae185d6a",
   "metadata": {
    "scrolled": false
   },
   "outputs": [
    {
     "data": {
      "text/plain": [
       "serial_number       float64\n",
       "list_year             int32\n",
       "date_recorded       float64\n",
       "Town                 object\n",
       "Address              object\n",
       "assessed_value      float64\n",
       "sale_amount         float64\n",
       "sales_ratio         float64\n",
       "property_type        object\n",
       "residential_type     object\n",
       "dtype: object"
      ]
     },
     "execution_count": 16,
     "metadata": {},
     "output_type": "execute_result"
    }
   ],
   "source": [
    "df_rss.dtypes"
   ]
  },
  {
   "cell_type": "code",
   "execution_count": 17,
   "id": "180f0a4e",
   "metadata": {},
   "outputs": [
    {
     "name": "stdout",
     "output_type": "stream",
     "text": [
      "serial_number\n",
      "False    200007\n",
      "Name: serial_number, dtype: int64\n",
      "\n",
      "list_year\n",
      "False    200007\n",
      "Name: list_year, dtype: int64\n",
      "\n",
      "date_recorded\n",
      "True    200007\n",
      "Name: date_recorded, dtype: int64\n",
      "\n",
      "Town\n",
      "False    200007\n",
      "Name: Town, dtype: int64\n",
      "\n",
      "Address\n",
      "False    200007\n",
      "Name: Address, dtype: int64\n",
      "\n",
      "assessed_value\n",
      "False    200007\n",
      "Name: assessed_value, dtype: int64\n",
      "\n",
      "sale_amount\n",
      "False    200007\n",
      "Name: sale_amount, dtype: int64\n",
      "\n",
      "sales_ratio\n",
      "False    200007\n",
      "Name: sales_ratio, dtype: int64\n",
      "\n",
      "property_type\n",
      "False    200007\n",
      "Name: property_type, dtype: int64\n",
      "\n",
      "residential_type\n",
      "False    200007\n",
      "Name: residential_type, dtype: int64\n",
      "\n"
     ]
    }
   ],
   "source": [
    "dfTemp = df_rss.isnull()\n",
    "dfTemp.head(5)\n",
    "\n",
    "for columna in dfTemp.columns.values.tolist(): #toma los datos, crea una lista y los encierra en una variable\n",
    "\n",
    "    print(columna)\n",
    "    print(dfTemp[columna].value_counts()) #usar parentesis cuadrado para cuando se refiera a una lista.\n",
    "    print(\"\")"
   ]
  },
  {
   "cell_type": "markdown",
   "id": "6c6b0787",
   "metadata": {},
   "source": [
    "<h4>Eliminacion de valores vacios que no permiten analizar el set</h4>"
   ]
  },
  {
   "cell_type": "code",
   "execution_count": 18,
   "id": "bb83cb17",
   "metadata": {},
   "outputs": [],
   "source": [
    "df_rss['property_type'] = df_rss['property_type'].replace(r'\\d+', 'NaN', regex=True)\n",
    "Sus = ['NaN N', 'NaN', 'NaN SUMMIT ST', 'NaN.NaN', 'NaN N', 'NaNA', 'NaNC SAW MILL', ' NaN N']\n",
    "df_rss[\"property_type\"].replace(Sus,np.nan,inplace=True)\n",
    "\n",
    "df_rss.dropna(subset=[\"property_type\"], axis=0,inplace=True)\n",
    "df_rss.reset_index(drop=True,inplace=True)"
   ]
  },
  {
   "cell_type": "code",
   "execution_count": 19,
   "id": "07837e28",
   "metadata": {
    "scrolled": false
   },
   "outputs": [
    {
     "name": "stdout",
     "output_type": "stream",
     "text": [
      "serial_number\n",
      "False    199879\n",
      "Name: serial_number, dtype: int64\n",
      "\n",
      "list_year\n",
      "False    199879\n",
      "Name: list_year, dtype: int64\n",
      "\n",
      "date_recorded\n",
      "True    199879\n",
      "Name: date_recorded, dtype: int64\n",
      "\n",
      "Town\n",
      "False    199879\n",
      "Name: Town, dtype: int64\n",
      "\n",
      "Address\n",
      "False    199879\n",
      "Name: Address, dtype: int64\n",
      "\n",
      "assessed_value\n",
      "False    199879\n",
      "Name: assessed_value, dtype: int64\n",
      "\n",
      "sale_amount\n",
      "False    199879\n",
      "Name: sale_amount, dtype: int64\n",
      "\n",
      "sales_ratio\n",
      "False    199879\n",
      "Name: sales_ratio, dtype: int64\n",
      "\n",
      "property_type\n",
      "False    199879\n",
      "Name: property_type, dtype: int64\n",
      "\n",
      "residential_type\n",
      "False    199879\n",
      "Name: residential_type, dtype: int64\n",
      "\n"
     ]
    }
   ],
   "source": [
    "dfTemp = df_rss.isnull()\n",
    "dfTemp.head(5)\n",
    "\n",
    "for columna in dfTemp.columns.values.tolist(): #toma los datos, crea una lista y los encierra en una variable\n",
    "\n",
    "    print(columna)\n",
    "    print(dfTemp[columna].value_counts()) #usar parentesis cuadrado para cuando se refiera a una lista.\n",
    "    print(\"\")"
   ]
  },
  {
   "cell_type": "markdown",
   "id": "4485d328",
   "metadata": {},
   "source": [
    "<h2 Style='color: #0841B9'> 1. ¿Cuál es el ingreso anual de las propiedades vendidas?</h2>\n"
   ]
  },
  {
   "cell_type": "code",
   "execution_count": 20,
   "id": "1e5391a5",
   "metadata": {},
   "outputs": [
    {
     "data": {
      "text/plain": [
       "list_year\n",
       "2001   ₡14,671,668,335.00\n",
       "2002   ₡17,100,395,037.00\n",
       "2003    ₡5,583,694,049.00\n",
       "2004          ₡381,000.00\n",
       "2005       ₡22,689,557.00\n",
       "2006       ₡63,705,175.00\n",
       "2007       ₡33,079,436.00\n",
       "2008       ₡23,102,639.00\n",
       "2009       ₡29,598,027.00\n",
       "2010       ₡45,022,620.00\n",
       "2011       ₡30,636,950.00\n",
       "2012       ₡39,620,367.00\n",
       "2013       ₡68,258,094.00\n",
       "2014       ₡75,739,322.00\n",
       "2015       ₡39,072,266.00\n",
       "2016       ₡30,966,100.00\n",
       "2017       ₡67,593,586.00\n",
       "2018      ₡100,189,550.00\n",
       "2019      ₡122,058,626.00\n",
       "2020   ₡39,982,408,578.02\n",
       "Name: sale_amount, dtype: float64"
      ]
     },
     "execution_count": 20,
     "metadata": {},
     "output_type": "execute_result"
    }
   ],
   "source": [
    "df_rss['sale_amount'] = pd.to_numeric(df_rss['sale_amount'], errors='coerce')\n",
    "df_rss.dropna(subset=['sale_amount']) #pregunta numero 1.\n",
    "pd.options.display.float_format = '₡{:,.2f}'.format\n",
    "df_rss.groupby(['list_year'])['sale_amount'].sum()\n",
    "#df_rss.groupby(['list_year', 'property_type'])['sale_amount'].sum() #Respuesta 1."
   ]
  },
  {
   "cell_type": "code",
   "execution_count": 21,
   "id": "9477b5ad",
   "metadata": {
    "scrolled": true
   },
   "outputs": [
    {
     "name": "stderr",
     "output_type": "stream",
     "text": [
      "C:\\Users\\user\\AppData\\Local\\Temp\\ipykernel_14612\\1047677091.py:1: FutureWarning: The default value of numeric_only in DataFrameGroupBy.sum is deprecated. In a future version, numeric_only will default to False. Either specify numeric_only or select only columns which should be valid for the function.\n",
      "  g1 = df_rss.groupby(['list_year', 'property_type']).sum()\n"
     ]
    },
    {
     "data": {
      "text/plain": [
       "list_year  property_type \n",
       "2020       Residential      ₡29,016,898,096.39\n",
       "2002       Residential      ₡17,100,395,037.00\n",
       "2001       Residential      ₡14,671,668,335.00\n",
       "2020       Apartments        ₡6,169,096,772.00\n",
       "2003       Residential       ₡5,583,694,049.00\n",
       "2020       Commercial        ₡3,456,687,332.03\n",
       "           Vacant Land         ₡925,880,110.60\n",
       "           Industrial          ₡411,997,723.00\n",
       "2019       Residential         ₡110,483,882.00\n",
       "2018       Residential          ₡88,986,365.00\n",
       "2014       Residential          ₡69,624,822.00\n",
       "2013       Residential          ₡65,472,194.00\n",
       "2017       Residential          ₡59,089,686.00\n",
       "2006       Residential          ₡56,666,775.00\n",
       "2010       Residential          ₡39,602,150.00\n",
       "2012       Residential          ₡35,161,372.00\n",
       "2015       Residential          ₡34,646,701.00\n",
       "2011       Residential          ₡27,764,500.00\n",
       "2009       Residential          ₡25,596,387.00\n",
       "2016       Residential          ₡24,170,700.00\n",
       "2007       Residential          ₡22,807,521.00\n",
       "2005       Residential          ₡22,689,557.00\n",
       "2008       Residential          ₡20,845,964.00\n",
       "2019       Condo                ₡11,574,744.00\n",
       "2018       Condo                ₡11,203,185.00\n",
       "2007       Condo                ₡10,271,915.00\n",
       "2017       Condo                 ₡8,218,900.00\n",
       "2006       Condo                 ₡6,928,400.00\n",
       "2016       Condo                 ₡6,265,400.00\n",
       "2014       Condo                 ₡6,114,500.00\n",
       "2010       Condo                 ₡5,420,470.00\n",
       "2012       Condo                 ₡4,458,995.00\n",
       "2015       Condo                 ₡4,425,565.00\n",
       "2009       Condo                 ₡4,001,640.00\n",
       "2011       Condo                 ₡2,872,450.00\n",
       "2013       Condo                 ₡2,735,900.00\n",
       "2008       Condo                 ₡2,256,675.00\n",
       "2020       Public Utility        ₡1,848,544.00\n",
       "2016       Single Family           ₡530,000.00\n",
       "2004       Residential             ₡381,000.00\n",
       "2017       Two Family              ₡285,000.00\n",
       "2006       Two Family              ₡110,000.00\n",
       "2013       Three Family             ₡50,000.00\n",
       "Name: sale_amount, dtype: float64"
      ]
     },
     "execution_count": 21,
     "metadata": {},
     "output_type": "execute_result"
    }
   ],
   "source": [
    "g1 = df_rss.groupby(['list_year', 'property_type']).sum()\n",
    "g1 = g1.iloc[:,:10]\n",
    "g1 = g1.sort_values('sale_amount', ascending=False)\n",
    "g1['sale_amount']"
   ]
  },
  {
   "cell_type": "markdown",
   "id": "38cf93e6",
   "metadata": {},
   "source": [
    "<h1>Respuesta 1</h1>\n",
    "\n",
    "<p>Con base en la primer tabla se puede obserar el correspondiente ingreso por año proveniente de la venta de estas propiedades a lo largo de los años. Se puede observar que los años que representan mayores ingresos para la compañia son 01', 02', 03', 18', 19' y 2020, infiriendo que la mayor parte del tiempo la compañia ha persibido cierta estacionalidad en sus ingresos, adicion a esto, se puede observar que el mayor motivo de ventas se encuentra dentro de 3 categorias las cuales son Residential, Condo y Apartment.</p>"
   ]
  },
  {
   "cell_type": "markdown",
   "id": "cfdaf88b",
   "metadata": {},
   "source": [
    "<h2 Style='color: #0841B9'> 2. ¿Qué tipo de propiedad tiene mayor facilidad de venta?</h2>"
   ]
  },
  {
   "cell_type": "code",
   "execution_count": 22,
   "id": "04f8c11d",
   "metadata": {},
   "outputs": [
    {
     "data": {
      "text/html": [
       "<div>\n",
       "<style scoped>\n",
       "    .dataframe tbody tr th:only-of-type {\n",
       "        vertical-align: middle;\n",
       "    }\n",
       "\n",
       "    .dataframe tbody tr th {\n",
       "        vertical-align: top;\n",
       "    }\n",
       "\n",
       "    .dataframe thead th {\n",
       "        text-align: right;\n",
       "    }\n",
       "</style>\n",
       "<table border=\"1\" class=\"dataframe\">\n",
       "  <thead>\n",
       "    <tr style=\"text-align: right;\">\n",
       "      <th></th>\n",
       "      <th>serial_number</th>\n",
       "      <th>list_year</th>\n",
       "      <th>date_recorded</th>\n",
       "      <th>Town</th>\n",
       "      <th>Address</th>\n",
       "      <th>assessed_value</th>\n",
       "      <th>sale_amount</th>\n",
       "      <th>sales_ratio</th>\n",
       "      <th>residential_type</th>\n",
       "    </tr>\n",
       "    <tr>\n",
       "      <th>property_type</th>\n",
       "      <th></th>\n",
       "      <th></th>\n",
       "      <th></th>\n",
       "      <th></th>\n",
       "      <th></th>\n",
       "      <th></th>\n",
       "      <th></th>\n",
       "      <th></th>\n",
       "      <th></th>\n",
       "    </tr>\n",
       "  </thead>\n",
       "  <tbody>\n",
       "    <tr>\n",
       "      <th>Three Family</th>\n",
       "      <td>1</td>\n",
       "      <td>1</td>\n",
       "      <td>0</td>\n",
       "      <td>1</td>\n",
       "      <td>1</td>\n",
       "      <td>1</td>\n",
       "      <td>1</td>\n",
       "      <td>1</td>\n",
       "      <td>1</td>\n",
       "    </tr>\n",
       "    <tr>\n",
       "      <th>Single Family</th>\n",
       "      <td>2</td>\n",
       "      <td>2</td>\n",
       "      <td>0</td>\n",
       "      <td>2</td>\n",
       "      <td>2</td>\n",
       "      <td>2</td>\n",
       "      <td>2</td>\n",
       "      <td>2</td>\n",
       "      <td>2</td>\n",
       "    </tr>\n",
       "    <tr>\n",
       "      <th>Two Family</th>\n",
       "      <td>2</td>\n",
       "      <td>2</td>\n",
       "      <td>0</td>\n",
       "      <td>2</td>\n",
       "      <td>2</td>\n",
       "      <td>2</td>\n",
       "      <td>2</td>\n",
       "      <td>2</td>\n",
       "      <td>2</td>\n",
       "    </tr>\n",
       "    <tr>\n",
       "      <th>Public Utility</th>\n",
       "      <td>5</td>\n",
       "      <td>5</td>\n",
       "      <td>0</td>\n",
       "      <td>5</td>\n",
       "      <td>5</td>\n",
       "      <td>5</td>\n",
       "      <td>5</td>\n",
       "      <td>5</td>\n",
       "      <td>5</td>\n",
       "    </tr>\n",
       "    <tr>\n",
       "      <th>Industrial</th>\n",
       "      <td>225</td>\n",
       "      <td>225</td>\n",
       "      <td>0</td>\n",
       "      <td>225</td>\n",
       "      <td>225</td>\n",
       "      <td>225</td>\n",
       "      <td>225</td>\n",
       "      <td>225</td>\n",
       "      <td>225</td>\n",
       "    </tr>\n",
       "    <tr>\n",
       "      <th>Condo</th>\n",
       "      <td>371</td>\n",
       "      <td>371</td>\n",
       "      <td>0</td>\n",
       "      <td>371</td>\n",
       "      <td>371</td>\n",
       "      <td>371</td>\n",
       "      <td>371</td>\n",
       "      <td>371</td>\n",
       "      <td>371</td>\n",
       "    </tr>\n",
       "    <tr>\n",
       "      <th>Apartments</th>\n",
       "      <td>478</td>\n",
       "      <td>478</td>\n",
       "      <td>0</td>\n",
       "      <td>478</td>\n",
       "      <td>478</td>\n",
       "      <td>478</td>\n",
       "      <td>478</td>\n",
       "      <td>478</td>\n",
       "      <td>478</td>\n",
       "    </tr>\n",
       "    <tr>\n",
       "      <th>Commercial</th>\n",
       "      <td>1951</td>\n",
       "      <td>1951</td>\n",
       "      <td>0</td>\n",
       "      <td>1951</td>\n",
       "      <td>1951</td>\n",
       "      <td>1951</td>\n",
       "      <td>1951</td>\n",
       "      <td>1951</td>\n",
       "      <td>1951</td>\n",
       "    </tr>\n",
       "    <tr>\n",
       "      <th>Vacant Land</th>\n",
       "      <td>3131</td>\n",
       "      <td>3131</td>\n",
       "      <td>0</td>\n",
       "      <td>3131</td>\n",
       "      <td>3131</td>\n",
       "      <td>3131</td>\n",
       "      <td>3131</td>\n",
       "      <td>3131</td>\n",
       "      <td>3131</td>\n",
       "    </tr>\n",
       "    <tr>\n",
       "      <th>Residential</th>\n",
       "      <td>193713</td>\n",
       "      <td>193713</td>\n",
       "      <td>0</td>\n",
       "      <td>193713</td>\n",
       "      <td>193713</td>\n",
       "      <td>193713</td>\n",
       "      <td>193713</td>\n",
       "      <td>193713</td>\n",
       "      <td>193713</td>\n",
       "    </tr>\n",
       "  </tbody>\n",
       "</table>\n",
       "</div>"
      ],
      "text/plain": [
       "                serial_number  list_year  date_recorded    Town  Address  \\\n",
       "property_type                                                              \n",
       "Three Family                1          1              0       1        1   \n",
       "Single Family               2          2              0       2        2   \n",
       "Two Family                  2          2              0       2        2   \n",
       "Public Utility              5          5              0       5        5   \n",
       "Industrial                225        225              0     225      225   \n",
       "Condo                     371        371              0     371      371   \n",
       "Apartments                478        478              0     478      478   \n",
       "Commercial               1951       1951              0    1951     1951   \n",
       "Vacant Land              3131       3131              0    3131     3131   \n",
       "Residential            193713     193713              0  193713   193713   \n",
       "\n",
       "                assessed_value  sale_amount  sales_ratio  residential_type  \n",
       "property_type                                                               \n",
       "Three Family                 1            1            1                 1  \n",
       "Single Family                2            2            2                 2  \n",
       "Two Family                   2            2            2                 2  \n",
       "Public Utility               5            5            5                 5  \n",
       "Industrial                 225          225          225               225  \n",
       "Condo                      371          371          371               371  \n",
       "Apartments                 478          478          478               478  \n",
       "Commercial                1951         1951         1951              1951  \n",
       "Vacant Land               3131         3131         3131              3131  \n",
       "Residential             193713       193713       193713            193713  "
      ]
     },
     "execution_count": 22,
     "metadata": {},
     "output_type": "execute_result"
    }
   ],
   "source": [
    "g2= df_rss.groupby([\"property_type\"]).count()\n",
    "g2= g2.iloc[:10]\n",
    "g2=g2.sort_values(\"sales_ratio\", ascending= True)\n",
    "g2"
   ]
  },
  {
   "cell_type": "code",
   "execution_count": 23,
   "id": "d599bfd0",
   "metadata": {
    "scrolled": false
   },
   "outputs": [
    {
     "data": {
      "image/png": "[encoded data removed]",
      "text/plain": [
       "<Figure size 640x480 with 1 Axes>"
      ]
     },
     "metadata": {},
     "output_type": "display_data"
    }
   ],
   "source": [
    "fig, ax= plt.subplots()\n",
    "\n",
    "eje_x=g2.index.tolist()\n",
    "data=g2[\"sales_ratio\"].tolist()\n",
    "\n",
    "ax.barh(eje_x, data)\n",
    "ax.set_xlabel(\"sales_ratio\")\n",
    "ax.set_ylabel(\"property_type\")\n",
    "ax.set_title(\"mayor prop con facilidad de venta\")\n",
    "\n",
    "plt.show()"
   ]
  },
  {
   "cell_type": "markdown",
   "id": "ae6e9b20",
   "metadata": {},
   "source": [
    "<h1>Respuesta 2</h1>\n",
    "\n",
    "<p>Tal a como se puede observar en la tabla y en el grafico, la propiedad tipo Residential tiene mayor indice de ventas, sindo esto ratificado con los datos analizados en la pregunta 1.</p>"
   ]
  },
  {
   "cell_type": "markdown",
   "id": "92fbbe35",
   "metadata": {},
   "source": [
    "<h2 Style='color: #0841B9'> 3. ¿En cuál ciudad o pueblo se dan mayor cantidad de ventas de propiedades? Y ¿Qué elementos particulares tienen esas ciudades o pueblos?</h2>"
   ]
  },
  {
   "cell_type": "code",
   "execution_count": 24,
   "id": "31d21b5b",
   "metadata": {},
   "outputs": [
    {
     "data": {
      "text/plain": [
       "Town\n",
       "Avon            1749\n",
       "Berlin          1113\n",
       "Ansonia          938\n",
       "Bethany          533\n",
       "Beacon Falls     416\n",
       "Ashford          311\n",
       "Barkhamsted      277\n",
       "Andover          189\n",
       "Name: sales_ratio, dtype: int64"
      ]
     },
     "execution_count": 24,
     "metadata": {},
     "output_type": "execute_result"
    }
   ],
   "source": [
    "g3= df_rss.groupby([\"Town\"]).count()\n",
    "g3= g3.iloc[:8]\n",
    "g3=g3.sort_values(\"sales_ratio\", ascending= False)\n",
    "g3['sales_ratio']"
   ]
  },
  {
   "cell_type": "code",
   "execution_count": 25,
   "id": "84b1a23e",
   "metadata": {
    "scrolled": false
   },
   "outputs": [
    {
     "data": {
      "image/png": "[encoded data removed]",
      "text/plain": [
       "<Figure size 640x480 with 1 Axes>"
      ]
     },
     "metadata": {},
     "output_type": "display_data"
    }
   ],
   "source": [
    "fig, ax= plt.subplots()\n",
    "\n",
    "eje_x=g3.index.tolist()\n",
    "data=g3[\"sales_ratio\"].tolist()\n",
    "\n",
    "ax.barh(eje_x, data)\n",
    "ax.set_xlabel(\"sales_ratio\")\n",
    "ax.set_ylabel(\"Town\")\n",
    "ax.set_title(\"mayor prop con facilidad de venta\")\n",
    "\n",
    "plt.show()"
   ]
  },
  {
   "cell_type": "markdown",
   "id": "3494ad3d",
   "metadata": {},
   "source": [
    "<h1>Respuesta 3</h1>\n",
    "\n",
    "<p>El mayor indice de ventas de propiedades se encuentra en la ciudad de Avon, ubicada en Colorado, USA, siendo este un pueblo un lugar con vistas escenicas muy cauivantes y un indice poblacional muy bajo, lo que permite un desarrollo mas lento y un ambiente mas tranquilo dentro de esta zona.</p>"
   ]
  },
  {
   "cell_type": "markdown",
   "id": "b18a64ea",
   "metadata": {},
   "source": [
    "<h2 Style='color: #0841B9'> 4. ¿Cuál es el costo promedio de las propiedades residenciales y comerciales?</h2>"
   ]
  },
  {
   "cell_type": "code",
   "execution_count": 26,
   "id": "5c13a1fe",
   "metadata": {},
   "outputs": [
    {
     "name": "stdout",
     "output_type": "stream",
     "text": [
      "promedio residential: 346268.1652413106\n",
      "promedio commercial: 1771751.5797180934\n"
     ]
    }
   ],
   "source": [
    "type = df_rss.groupby(['property_type'])['sale_amount'].mean()\n",
    "Residential = type['Residential']\n",
    "Commercial = type ['Commercial']\n",
    "\n",
    " #Respuesta 4\n",
    "\n",
    "print(\"promedio residential:\",Residential)\n",
    "print(\"promedio commercial:\",Commercial)"
   ]
  },
  {
   "cell_type": "markdown",
   "id": "0561d7d5",
   "metadata": {},
   "source": [
    "<h1>Respuesta 4</h1>\n",
    "\n",
    "<p>El costo promedio de Residential es 346,268.17 y el de Commercial es 1,771,751.58, lo que implica que el numero de propiedades comerciales tienen mas rentabilidad en el mercado</p>"
   ]
  },
  {
   "cell_type": "markdown",
   "id": "be8f4373",
   "metadata": {},
   "source": [
    "<h2 Style='color: #0841B9'> 5. ¿Cuál es tipo de propiedades residenciales que se vende con mayor frecuencia, donde y con que costo promedio?</h2>"
   ]
  },
  {
   "cell_type": "code",
   "execution_count": 27,
   "id": "69acf4eb",
   "metadata": {
    "scrolled": false
   },
   "outputs": [
    {
     "data": {
      "text/plain": [
       "residential_type  Town         \n",
       "Condo             Ansonia          ₡1,877,800.00\n",
       "                  Ashford             ₡79,900.00\n",
       "                  Avon            ₡47,116,190.00\n",
       "                  Beacon Falls    ₡17,585,761.00\n",
       "                  Berlin          ₡17,568,491.00\n",
       "                                       ...      \n",
       "Two Family        Windsor Locks    ₡3,144,500.00\n",
       "                  Wolcott            ₡976,800.00\n",
       "                  Woodbridge       ₡1,717,500.00\n",
       "                  Woodbury           ₡165,000.00\n",
       "                  Woodstock          ₡205,000.00\n",
       "Name: sale_amount, Length: 520, dtype: float64"
      ]
     },
     "execution_count": 27,
     "metadata": {},
     "output_type": "execute_result"
    }
   ],
   "source": [
    "df_rss.groupby(['residential_type', 'Town'])['sale_amount'].sum() #respuesta 5"
   ]
  },
  {
   "cell_type": "markdown",
   "id": "00c07ed8",
   "metadata": {},
   "source": [
    "<h1>Respuesta 5</h1>\n",
    "\n",
    "<p>Con base en la informacion anterior, se puede inferir que el tipo de residencia que genera mas ventas con mayor frecuencia es el condominio, en pueblos como Ansonia, Ashford, Avon, Beacon Falls y Berlin, permitiendo percibir gran cantidad del efectivo generado por la venta de estas propiedades.</p>"
   ]
  },
  {
   "cell_type": "markdown",
   "id": "ab1194c9",
   "metadata": {},
   "source": [
    "<h2 Style='color: #0841B9'> 6. ¿Cuál es margen promedio de ganancia por cada una de las propiedades vendidas?</h2>"
   ]
  },
  {
   "cell_type": "code",
   "execution_count": 28,
   "id": "d01a9c26",
   "metadata": {
    "scrolled": false
   },
   "outputs": [
    {
     "data": {
      "image/png": "[encoded data removed]",
      "text/plain": [
       "<Figure size 640x480 with 1 Axes>"
      ]
     },
     "metadata": {},
     "output_type": "display_data"
    },
    {
     "data": {
      "text/plain": [
       "property_type\n",
       "Apartments        ₡34.21\n",
       "Commercial        ₡60.08\n",
       "Condo             ₡17.34\n",
       "Industrial        ₡37.91\n",
       "Public Utility   ₡198.04\n",
       "Residential       ₡38.86\n",
       "Single Family      ₡0.72\n",
       "Three Family      ₡41.35\n",
       "Two Family         ₡0.60\n",
       "Vacant Land       ₡38.80\n",
       "Name: sales_ratio, dtype: float64"
      ]
     },
     "execution_count": 28,
     "metadata": {},
     "output_type": "execute_result"
    }
   ],
   "source": [
    "grouped_data = df_rss.groupby('property_type')['sales_ratio'].sum()\n",
    "data = df_rss.groupby(['property_type'])['sales_ratio'].mean()\n",
    "\n",
    "fig, ax = plt.subplots()\n",
    "\n",
    "eje_x = data.index.tolist()\n",
    "\n",
    "ax.barh(eje_x, data)\n",
    "\n",
    "ax.set_xlabel(\"sales_ratio\")\n",
    "ax.set_ylabel(\"Residential Type\")\n",
    "ax.set_title(\"Average Sale Amount by Residential Type\")\n",
    "\n",
    "plt.show()\n",
    "\n",
    "df_rss.groupby([\"property_type\"])['sales_ratio'].mean() #respuesta 6"
   ]
  },
  {
   "cell_type": "markdown",
   "id": "ce42459a",
   "metadata": {},
   "source": [
    "<h1>Respuesta 6</h1>\n",
    "\n",
    "<p>Por ultimo, podemos encontrar que existe una disfribucion bastante distribuida por partes similares a lo largo del complejo de datos, sin embargo en el que podemos encontrar mayor cantidad de ganancia es en Public Utilities, sin embargo, el apartado de commercial no se queda atras con un 60.08%.</p>"
   ]
  },
  {
   "cell_type": "markdown",
   "id": "5b9a0c05",
   "metadata": {},
   "source": [
    "<h1>Fin del Proyecto</h1>\n"
   ]
  }
 ],
 "metadata": {
  "kernelspec": {
   "display_name": "Python 3 (ipykernel)",
   "language": "python",
   "name": "python3"
  },
  "language_info": {
   "codemirror_mode": {
    "name": "ipython",
    "version": 3
   },
   "file_extension": ".py",
   "mimetype": "text/x-python",
   "name": "python",
   "nbconvert_exporter": "python",
   "pygments_lexer": "ipython3",
   "version": "3.10.9"
  }
 },
 "nbformat": 4,
 "nbformat_minor": 5
}
